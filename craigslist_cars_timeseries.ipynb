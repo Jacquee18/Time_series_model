{
  "cells": [
    {
      "cell_type": "markdown",
      "metadata": {
        "id": "view-in-github",
        "colab_type": "text"
      },
      "source": [
        "<a href=\"https://colab.research.google.com/github/Jacquee18/Time_series_model/blob/main/craigslist_cars_timeseries.ipynb\" target=\"_parent\"><img src=\"https://colab.research.google.com/assets/colab-badge.svg\" alt=\"Open In Colab\"/></a>"
      ]
    },
    {
      "cell_type": "code",
      "execution_count": null,
      "id": "3df6d548",
      "metadata": {
        "_cell_guid": "b1076dfc-b9ad-4769-8c92-a6c4dae69d19",
        "_uuid": "8f2839f25d086af736a60e9eeb907d3b93b6e0e5",
        "execution": {
          "iopub.execute_input": "2023-10-27T09:59:16.148449Z",
          "iopub.status.busy": "2023-10-27T09:59:16.148079Z",
          "iopub.status.idle": "2023-10-27T10:00:04.688512Z",
          "shell.execute_reply": "2023-10-27T10:00:04.687204Z"
        },
        "papermill": {
          "duration": 48.551276,
          "end_time": "2023-10-27T10:00:04.694127",
          "exception": false,
          "start_time": "2023-10-27T09:59:16.142851",
          "status": "completed"
        },
        "tags": [],
        "id": "3df6d548",
        "outputId": "b362d88e-98c5-4a32-a220-3d0f3d6116bd"
      },
      "outputs": [
        {
          "data": {
            "text/html": [
              "<div>\n",
              "<style scoped>\n",
              "    .dataframe tbody tr th:only-of-type {\n",
              "        vertical-align: middle;\n",
              "    }\n",
              "\n",
              "    .dataframe tbody tr th {\n",
              "        vertical-align: top;\n",
              "    }\n",
              "\n",
              "    .dataframe thead th {\n",
              "        text-align: right;\n",
              "    }\n",
              "</style>\n",
              "<table border=\"1\" class=\"dataframe\">\n",
              "  <thead>\n",
              "    <tr style=\"text-align: right;\">\n",
              "      <th></th>\n",
              "      <th>Unnamed: 0</th>\n",
              "      <th>id</th>\n",
              "      <th>url</th>\n",
              "      <th>region</th>\n",
              "      <th>region_url</th>\n",
              "      <th>price</th>\n",
              "      <th>year</th>\n",
              "      <th>manufacturer</th>\n",
              "      <th>model</th>\n",
              "      <th>condition</th>\n",
              "      <th>...</th>\n",
              "      <th>type</th>\n",
              "      <th>paint_color</th>\n",
              "      <th>image_url</th>\n",
              "      <th>description</th>\n",
              "      <th>county</th>\n",
              "      <th>state</th>\n",
              "      <th>lat</th>\n",
              "      <th>long</th>\n",
              "      <th>posting_date</th>\n",
              "      <th>removal_date</th>\n",
              "    </tr>\n",
              "  </thead>\n",
              "  <tbody>\n",
              "    <tr>\n",
              "      <th>0</th>\n",
              "      <td>362773</td>\n",
              "      <td>7307679724</td>\n",
              "      <td>https://abilene.craigslist.org/ctd/d/abilene-2...</td>\n",
              "      <td>abilene</td>\n",
              "      <td>https://abilene.craigslist.org</td>\n",
              "      <td>4500</td>\n",
              "      <td>2002.0</td>\n",
              "      <td>bmw</td>\n",
              "      <td>x5</td>\n",
              "      <td>NaN</td>\n",
              "      <td>...</td>\n",
              "      <td>NaN</td>\n",
              "      <td>NaN</td>\n",
              "      <td>https://images.craigslist.org/00m0m_iba78h8ty9...</td>\n",
              "      <td>$4,500 Cash  2002 BMW X5  8 cylinder 4.4L moto...</td>\n",
              "      <td>NaN</td>\n",
              "      <td>tx</td>\n",
              "      <td>32.401556</td>\n",
              "      <td>-99.884713</td>\n",
              "      <td>2021-04-16 00:00:00+00:00</td>\n",
              "      <td>2021-05-02 00:00:00+00:00</td>\n",
              "    </tr>\n",
              "    <tr>\n",
              "      <th>1</th>\n",
              "      <td>362712</td>\n",
              "      <td>7311833696</td>\n",
              "      <td>https://abilene.craigslist.org/ctd/d/abilene-2...</td>\n",
              "      <td>abilene</td>\n",
              "      <td>https://abilene.craigslist.org</td>\n",
              "      <td>4500</td>\n",
              "      <td>2002.0</td>\n",
              "      <td>bmw</td>\n",
              "      <td>x5</td>\n",
              "      <td>NaN</td>\n",
              "      <td>...</td>\n",
              "      <td>NaN</td>\n",
              "      <td>NaN</td>\n",
              "      <td>https://images.craigslist.org/00m0m_iba78h8ty9...</td>\n",
              "      <td>$4,500 Cash  2002 BMW X5  8 cylinder 4.4L moto...</td>\n",
              "      <td>NaN</td>\n",
              "      <td>tx</td>\n",
              "      <td>32.401556</td>\n",
              "      <td>-99.884713</td>\n",
              "      <td>2021-04-24 00:00:00+00:00</td>\n",
              "      <td>2021-04-28 00:00:00+00:00</td>\n",
              "    </tr>\n",
              "    <tr>\n",
              "      <th>2</th>\n",
              "      <td>362722</td>\n",
              "      <td>7311441996</td>\n",
              "      <td>https://abilene.craigslist.org/ctd/d/abilene-2...</td>\n",
              "      <td>abilene</td>\n",
              "      <td>https://abilene.craigslist.org</td>\n",
              "      <td>4900</td>\n",
              "      <td>2006.0</td>\n",
              "      <td>toyota</td>\n",
              "      <td>camry</td>\n",
              "      <td>excellent</td>\n",
              "      <td>...</td>\n",
              "      <td>sedan</td>\n",
              "      <td>silver</td>\n",
              "      <td>https://images.craigslist.org/00808_5FkOw2aGjA...</td>\n",
              "      <td>2006 TOYOTA CAMRY LE Sedan   Ready To Upgrade ...</td>\n",
              "      <td>NaN</td>\n",
              "      <td>tx</td>\n",
              "      <td>32.453848</td>\n",
              "      <td>-99.787900</td>\n",
              "      <td>2021-04-23 00:00:00+00:00</td>\n",
              "      <td>2021-05-25 00:00:00+00:00</td>\n",
              "    </tr>\n",
              "    <tr>\n",
              "      <th>3</th>\n",
              "      <td>362771</td>\n",
              "      <td>7307680715</td>\n",
              "      <td>https://abilene.craigslist.org/ctd/d/abilene-2...</td>\n",
              "      <td>abilene</td>\n",
              "      <td>https://abilene.craigslist.org</td>\n",
              "      <td>6500</td>\n",
              "      <td>2008.0</td>\n",
              "      <td>ford</td>\n",
              "      <td>expedition</td>\n",
              "      <td>NaN</td>\n",
              "      <td>...</td>\n",
              "      <td>NaN</td>\n",
              "      <td>NaN</td>\n",
              "      <td>https://images.craigslist.org/00M0M_i9CoFvVq8o...</td>\n",
              "      <td>$6500.00 2008 Ford Expedition  8 cylinder 5.4L...</td>\n",
              "      <td>NaN</td>\n",
              "      <td>tx</td>\n",
              "      <td>32.401556</td>\n",
              "      <td>-99.884713</td>\n",
              "      <td>2021-04-16 00:00:00+00:00</td>\n",
              "      <td>2021-04-26 00:00:00+00:00</td>\n",
              "    </tr>\n",
              "    <tr>\n",
              "      <th>4</th>\n",
              "      <td>362710</td>\n",
              "      <td>7311834578</td>\n",
              "      <td>https://abilene.craigslist.org/ctd/d/abilene-2...</td>\n",
              "      <td>abilene</td>\n",
              "      <td>https://abilene.craigslist.org</td>\n",
              "      <td>6500</td>\n",
              "      <td>2008.0</td>\n",
              "      <td>ford</td>\n",
              "      <td>expedition</td>\n",
              "      <td>NaN</td>\n",
              "      <td>...</td>\n",
              "      <td>NaN</td>\n",
              "      <td>NaN</td>\n",
              "      <td>https://images.craigslist.org/00M0M_i9CoFvVq8o...</td>\n",
              "      <td>$6500.00 2008 Ford Expedition  8 cylinder 5.4L...</td>\n",
              "      <td>NaN</td>\n",
              "      <td>tx</td>\n",
              "      <td>32.401556</td>\n",
              "      <td>-99.884713</td>\n",
              "      <td>2021-04-24 00:00:00+00:00</td>\n",
              "      <td>2021-05-12 00:00:00+00:00</td>\n",
              "    </tr>\n",
              "    <tr>\n",
              "      <th>...</th>\n",
              "      <td>...</td>\n",
              "      <td>...</td>\n",
              "      <td>...</td>\n",
              "      <td>...</td>\n",
              "      <td>...</td>\n",
              "      <td>...</td>\n",
              "      <td>...</td>\n",
              "      <td>...</td>\n",
              "      <td>...</td>\n",
              "      <td>...</td>\n",
              "      <td>...</td>\n",
              "      <td>...</td>\n",
              "      <td>...</td>\n",
              "      <td>...</td>\n",
              "      <td>...</td>\n",
              "      <td>...</td>\n",
              "      <td>...</td>\n",
              "      <td>...</td>\n",
              "      <td>...</td>\n",
              "      <td>...</td>\n",
              "      <td>...</td>\n",
              "    </tr>\n",
              "    <tr>\n",
              "      <th>426875</th>\n",
              "      <td>303849</td>\n",
              "      <td>7307070484</td>\n",
              "      <td>https://zanesville.craigslist.org/cto/d/zanesv...</td>\n",
              "      <td>zanesville / cambridge</td>\n",
              "      <td>https://zanesville.craigslist.org</td>\n",
              "      <td>5100</td>\n",
              "      <td>2009.0</td>\n",
              "      <td>NaN</td>\n",
              "      <td>saab 9-7x</td>\n",
              "      <td>fair</td>\n",
              "      <td>...</td>\n",
              "      <td>SUV</td>\n",
              "      <td>grey</td>\n",
              "      <td>https://images.craigslist.org/00b0b_dsIhheG86S...</td>\n",
              "      <td>For sale: 2009 Saab 9-7x Fair condition  AWD  ...</td>\n",
              "      <td>NaN</td>\n",
              "      <td>oh</td>\n",
              "      <td>39.937000</td>\n",
              "      <td>-82.031500</td>\n",
              "      <td>2021-04-15 00:00:00+00:00</td>\n",
              "      <td>2021-04-21 00:00:00+00:00</td>\n",
              "    </tr>\n",
              "    <tr>\n",
              "      <th>426876</th>\n",
              "      <td>303706</td>\n",
              "      <td>7314635557</td>\n",
              "      <td>https://zanesville.craigslist.org/cto/d/zanesv...</td>\n",
              "      <td>zanesville / cambridge</td>\n",
              "      <td>https://zanesville.craigslist.org</td>\n",
              "      <td>7500</td>\n",
              "      <td>2011.0</td>\n",
              "      <td>ford</td>\n",
              "      <td>f-450</td>\n",
              "      <td>good</td>\n",
              "      <td>...</td>\n",
              "      <td>bus</td>\n",
              "      <td>red</td>\n",
              "      <td>https://images.craigslist.org/00b0b_8lBfNkZ6pr...</td>\n",
              "      <td>2011 E-Ford 450 with 177k miles, 6.8 liter v-1...</td>\n",
              "      <td>NaN</td>\n",
              "      <td>oh</td>\n",
              "      <td>39.927400</td>\n",
              "      <td>-82.004100</td>\n",
              "      <td>2021-04-30 00:00:00+00:00</td>\n",
              "      <td>2021-05-15 00:00:00+00:00</td>\n",
              "    </tr>\n",
              "    <tr>\n",
              "      <th>426877</th>\n",
              "      <td>303704</td>\n",
              "      <td>7314710341</td>\n",
              "      <td>https://zanesville.craigslist.org/cto/d/zanesv...</td>\n",
              "      <td>zanesville / cambridge</td>\n",
              "      <td>https://zanesville.craigslist.org</td>\n",
              "      <td>25000</td>\n",
              "      <td>2016.0</td>\n",
              "      <td>chevrolet</td>\n",
              "      <td>silverado</td>\n",
              "      <td>excellent</td>\n",
              "      <td>...</td>\n",
              "      <td>truck</td>\n",
              "      <td>blue</td>\n",
              "      <td>https://images.craigslist.org/00k0k_jw0Pda6LTk...</td>\n",
              "      <td>2013 Silverado excellent condition. Blue in co...</td>\n",
              "      <td>NaN</td>\n",
              "      <td>oh</td>\n",
              "      <td>39.896865</td>\n",
              "      <td>-82.042283</td>\n",
              "      <td>2021-04-30 00:00:00+00:00</td>\n",
              "      <td>2021-05-12 00:00:00+00:00</td>\n",
              "    </tr>\n",
              "    <tr>\n",
              "      <th>426878</th>\n",
              "      <td>303670</td>\n",
              "      <td>7316225330</td>\n",
              "      <td>https://zanesville.craigslist.org/cto/d/zanesv...</td>\n",
              "      <td>zanesville / cambridge</td>\n",
              "      <td>https://zanesville.craigslist.org</td>\n",
              "      <td>6</td>\n",
              "      <td>1986.0</td>\n",
              "      <td>NaN</td>\n",
              "      <td>camaro iroc z28</td>\n",
              "      <td>good</td>\n",
              "      <td>...</td>\n",
              "      <td>NaN</td>\n",
              "      <td>red</td>\n",
              "      <td>https://images.craigslist.org/00Y0Y_avlrYDn7OY...</td>\n",
              "      <td>1986 Iroc Z28 , T-tops , 86,500 miles , has ne...</td>\n",
              "      <td>NaN</td>\n",
              "      <td>oh</td>\n",
              "      <td>39.938630</td>\n",
              "      <td>-82.006760</td>\n",
              "      <td>2021-05-03 00:00:00+00:00</td>\n",
              "      <td>2021-05-08 00:00:00+00:00</td>\n",
              "    </tr>\n",
              "    <tr>\n",
              "      <th>426879</th>\n",
              "      <td>303836</td>\n",
              "      <td>7308192431</td>\n",
              "      <td>https://zanesville.craigslist.org/cto/d/zanesv...</td>\n",
              "      <td>zanesville / cambridge</td>\n",
              "      <td>https://zanesville.craigslist.org</td>\n",
              "      <td>9795</td>\n",
              "      <td>1999.0</td>\n",
              "      <td>dodge</td>\n",
              "      <td>durango</td>\n",
              "      <td>like new</td>\n",
              "      <td>...</td>\n",
              "      <td>SUV</td>\n",
              "      <td>silver</td>\n",
              "      <td>https://images.craigslist.org/00J0J_fbgDQsCgfB...</td>\n",
              "      <td>FOR SALE LIKE NEW 1999 DODGE DURANGO, LOADED W...</td>\n",
              "      <td>NaN</td>\n",
              "      <td>oh</td>\n",
              "      <td>39.998337</td>\n",
              "      <td>-82.022885</td>\n",
              "      <td>2021-04-17 00:00:00+00:00</td>\n",
              "      <td>2021-05-09 00:00:00+00:00</td>\n",
              "    </tr>\n",
              "  </tbody>\n",
              "</table>\n",
              "<p>426880 rows × 28 columns</p>\n",
              "</div>"
            ],
            "text/plain": [
              "        Unnamed: 0          id  \\\n",
              "0           362773  7307679724   \n",
              "1           362712  7311833696   \n",
              "2           362722  7311441996   \n",
              "3           362771  7307680715   \n",
              "4           362710  7311834578   \n",
              "...            ...         ...   \n",
              "426875      303849  7307070484   \n",
              "426876      303706  7314635557   \n",
              "426877      303704  7314710341   \n",
              "426878      303670  7316225330   \n",
              "426879      303836  7308192431   \n",
              "\n",
              "                                                      url  \\\n",
              "0       https://abilene.craigslist.org/ctd/d/abilene-2...   \n",
              "1       https://abilene.craigslist.org/ctd/d/abilene-2...   \n",
              "2       https://abilene.craigslist.org/ctd/d/abilene-2...   \n",
              "3       https://abilene.craigslist.org/ctd/d/abilene-2...   \n",
              "4       https://abilene.craigslist.org/ctd/d/abilene-2...   \n",
              "...                                                   ...   \n",
              "426875  https://zanesville.craigslist.org/cto/d/zanesv...   \n",
              "426876  https://zanesville.craigslist.org/cto/d/zanesv...   \n",
              "426877  https://zanesville.craigslist.org/cto/d/zanesv...   \n",
              "426878  https://zanesville.craigslist.org/cto/d/zanesv...   \n",
              "426879  https://zanesville.craigslist.org/cto/d/zanesv...   \n",
              "\n",
              "                        region                         region_url  price  \\\n",
              "0                      abilene     https://abilene.craigslist.org   4500   \n",
              "1                      abilene     https://abilene.craigslist.org   4500   \n",
              "2                      abilene     https://abilene.craigslist.org   4900   \n",
              "3                      abilene     https://abilene.craigslist.org   6500   \n",
              "4                      abilene     https://abilene.craigslist.org   6500   \n",
              "...                        ...                                ...    ...   \n",
              "426875  zanesville / cambridge  https://zanesville.craigslist.org   5100   \n",
              "426876  zanesville / cambridge  https://zanesville.craigslist.org   7500   \n",
              "426877  zanesville / cambridge  https://zanesville.craigslist.org  25000   \n",
              "426878  zanesville / cambridge  https://zanesville.craigslist.org      6   \n",
              "426879  zanesville / cambridge  https://zanesville.craigslist.org   9795   \n",
              "\n",
              "          year manufacturer            model  condition  ...   type  \\\n",
              "0       2002.0          bmw               x5        NaN  ...    NaN   \n",
              "1       2002.0          bmw               x5        NaN  ...    NaN   \n",
              "2       2006.0       toyota            camry  excellent  ...  sedan   \n",
              "3       2008.0         ford       expedition        NaN  ...    NaN   \n",
              "4       2008.0         ford       expedition        NaN  ...    NaN   \n",
              "...        ...          ...              ...        ...  ...    ...   \n",
              "426875  2009.0          NaN        saab 9-7x       fair  ...    SUV   \n",
              "426876  2011.0         ford            f-450       good  ...    bus   \n",
              "426877  2016.0    chevrolet        silverado  excellent  ...  truck   \n",
              "426878  1986.0          NaN  camaro iroc z28       good  ...    NaN   \n",
              "426879  1999.0        dodge          durango   like new  ...    SUV   \n",
              "\n",
              "       paint_color                                          image_url  \\\n",
              "0              NaN  https://images.craigslist.org/00m0m_iba78h8ty9...   \n",
              "1              NaN  https://images.craigslist.org/00m0m_iba78h8ty9...   \n",
              "2           silver  https://images.craigslist.org/00808_5FkOw2aGjA...   \n",
              "3              NaN  https://images.craigslist.org/00M0M_i9CoFvVq8o...   \n",
              "4              NaN  https://images.craigslist.org/00M0M_i9CoFvVq8o...   \n",
              "...            ...                                                ...   \n",
              "426875        grey  https://images.craigslist.org/00b0b_dsIhheG86S...   \n",
              "426876         red  https://images.craigslist.org/00b0b_8lBfNkZ6pr...   \n",
              "426877        blue  https://images.craigslist.org/00k0k_jw0Pda6LTk...   \n",
              "426878         red  https://images.craigslist.org/00Y0Y_avlrYDn7OY...   \n",
              "426879      silver  https://images.craigslist.org/00J0J_fbgDQsCgfB...   \n",
              "\n",
              "                                              description county state  \\\n",
              "0       $4,500 Cash  2002 BMW X5  8 cylinder 4.4L moto...    NaN    tx   \n",
              "1       $4,500 Cash  2002 BMW X5  8 cylinder 4.4L moto...    NaN    tx   \n",
              "2       2006 TOYOTA CAMRY LE Sedan   Ready To Upgrade ...    NaN    tx   \n",
              "3       $6500.00 2008 Ford Expedition  8 cylinder 5.4L...    NaN    tx   \n",
              "4       $6500.00 2008 Ford Expedition  8 cylinder 5.4L...    NaN    tx   \n",
              "...                                                   ...    ...   ...   \n",
              "426875  For sale: 2009 Saab 9-7x Fair condition  AWD  ...    NaN    oh   \n",
              "426876  2011 E-Ford 450 with 177k miles, 6.8 liter v-1...    NaN    oh   \n",
              "426877  2013 Silverado excellent condition. Blue in co...    NaN    oh   \n",
              "426878  1986 Iroc Z28 , T-tops , 86,500 miles , has ne...    NaN    oh   \n",
              "426879  FOR SALE LIKE NEW 1999 DODGE DURANGO, LOADED W...    NaN    oh   \n",
              "\n",
              "              lat       long               posting_date  \\\n",
              "0       32.401556 -99.884713  2021-04-16 00:00:00+00:00   \n",
              "1       32.401556 -99.884713  2021-04-24 00:00:00+00:00   \n",
              "2       32.453848 -99.787900  2021-04-23 00:00:00+00:00   \n",
              "3       32.401556 -99.884713  2021-04-16 00:00:00+00:00   \n",
              "4       32.401556 -99.884713  2021-04-24 00:00:00+00:00   \n",
              "...           ...        ...                        ...   \n",
              "426875  39.937000 -82.031500  2021-04-15 00:00:00+00:00   \n",
              "426876  39.927400 -82.004100  2021-04-30 00:00:00+00:00   \n",
              "426877  39.896865 -82.042283  2021-04-30 00:00:00+00:00   \n",
              "426878  39.938630 -82.006760  2021-05-03 00:00:00+00:00   \n",
              "426879  39.998337 -82.022885  2021-04-17 00:00:00+00:00   \n",
              "\n",
              "                     removal_date  \n",
              "0       2021-05-02 00:00:00+00:00  \n",
              "1       2021-04-28 00:00:00+00:00  \n",
              "2       2021-05-25 00:00:00+00:00  \n",
              "3       2021-04-26 00:00:00+00:00  \n",
              "4       2021-05-12 00:00:00+00:00  \n",
              "...                           ...  \n",
              "426875  2021-04-21 00:00:00+00:00  \n",
              "426876  2021-05-15 00:00:00+00:00  \n",
              "426877  2021-05-12 00:00:00+00:00  \n",
              "426878  2021-05-08 00:00:00+00:00  \n",
              "426879  2021-05-09 00:00:00+00:00  \n",
              "\n",
              "[426880 rows x 28 columns]"
            ]
          },
          "execution_count": 1,
          "metadata": {},
          "output_type": "execute_result"
        }
      ],
      "source": [
        "import numpy as np # linear algebra\n",
        "import pandas as pd # data processing, CSV file I/O (e.g. pd.read_csv)\n",
        "\n",
        "df = pd.read_csv('/kaggle/input/craigslist-vehicles/craigslist_vehicles.csv')\n",
        "df"
      ]
    },
    {
      "cell_type": "code",
      "execution_count": null,
      "id": "9c08de9a",
      "metadata": {
        "execution": {
          "iopub.execute_input": "2023-10-27T10:00:04.702984Z",
          "iopub.status.busy": "2023-10-27T10:00:04.702558Z",
          "iopub.status.idle": "2023-10-27T10:00:10.840179Z",
          "shell.execute_reply": "2023-10-27T10:00:10.838916Z"
        },
        "papermill": {
          "duration": 6.145051,
          "end_time": "2023-10-27T10:00:10.842829",
          "exception": false,
          "start_time": "2023-10-27T10:00:04.697778",
          "status": "completed"
        },
        "tags": [],
        "id": "9c08de9a",
        "outputId": "8f4ffee2-e937-4edc-d91a-95cdcef4dba1"
      },
      "outputs": [
        {
          "name": "stderr",
          "output_type": "stream",
          "text": [
            "/tmp/ipykernel_20/186623688.py:6: DeprecationWarning: `np.object` is a deprecated alias for the builtin `object`. To silence this warning, use `object` by itself. Doing this will not modify any behavior and is safe. \n",
            "Deprecated in NumPy 1.20; for more details and guidance: https://numpy.org/devdocs/release/1.20.0-notes.html#deprecations\n",
            "  categorical_cols = df.select_dtypes(include=[np.object]).columns\n"
          ]
        }
      ],
      "source": [
        "# Fill missing values with median for numerical columns\n",
        "numerical_cols = df.select_dtypes(include=[np.number]).columns\n",
        "df[numerical_cols] = df[numerical_cols].fillna(df[numerical_cols].median())\n",
        "\n",
        "# Fill missing values with mode for categorical columns\n",
        "categorical_cols = df.select_dtypes(include=[np.object]).columns\n",
        "df[categorical_cols] = df[categorical_cols].fillna(df[categorical_cols].mode().iloc[0])"
      ]
    },
    {
      "cell_type": "code",
      "execution_count": null,
      "id": "37223e8b",
      "metadata": {
        "execution": {
          "iopub.execute_input": "2023-10-27T10:00:10.852374Z",
          "iopub.status.busy": "2023-10-27T10:00:10.852032Z",
          "iopub.status.idle": "2023-10-27T10:00:10.927709Z",
          "shell.execute_reply": "2023-10-27T10:00:10.926567Z"
        },
        "papermill": {
          "duration": 0.083306,
          "end_time": "2023-10-27T10:00:10.930246",
          "exception": false,
          "start_time": "2023-10-27T10:00:10.846940",
          "status": "completed"
        },
        "tags": [],
        "id": "37223e8b"
      },
      "outputs": [],
      "source": [
        "# Convert 'posting_date' column to datetime\n",
        "df['posting_date'] = pd.to_datetime(df['posting_date'])\n"
      ]
    },
    {
      "cell_type": "code",
      "execution_count": null,
      "id": "e470a29a",
      "metadata": {
        "execution": {
          "iopub.execute_input": "2023-10-27T10:00:10.939499Z",
          "iopub.status.busy": "2023-10-27T10:00:10.939108Z",
          "iopub.status.idle": "2023-10-27T10:00:10.945166Z",
          "shell.execute_reply": "2023-10-27T10:00:10.944023Z"
        },
        "papermill": {
          "duration": 0.013492,
          "end_time": "2023-10-27T10:00:10.947601",
          "exception": false,
          "start_time": "2023-10-27T10:00:10.934109",
          "status": "completed"
        },
        "tags": [],
        "id": "e470a29a"
      },
      "outputs": [],
      "source": [
        "# Set 'posting_date' as the index\n",
        "df.set_index('posting_date', inplace=True)\n"
      ]
    },
    {
      "cell_type": "code",
      "execution_count": null,
      "id": "61bb5bad",
      "metadata": {
        "execution": {
          "iopub.execute_input": "2023-10-27T10:00:10.957111Z",
          "iopub.status.busy": "2023-10-27T10:00:10.956750Z",
          "iopub.status.idle": "2023-10-27T10:00:11.468253Z",
          "shell.execute_reply": "2023-10-27T10:00:11.467128Z"
        },
        "papermill": {
          "duration": 0.519031,
          "end_time": "2023-10-27T10:00:11.470817",
          "exception": false,
          "start_time": "2023-10-27T10:00:10.951786",
          "status": "completed"
        },
        "tags": [],
        "id": "61bb5bad"
      },
      "outputs": [],
      "source": [
        "df.sort_values(by='posting_date', inplace=True)\n"
      ]
    },
    {
      "cell_type": "code",
      "execution_count": null,
      "id": "8cf7fdba",
      "metadata": {
        "execution": {
          "iopub.execute_input": "2023-10-27T10:00:11.479909Z",
          "iopub.status.busy": "2023-10-27T10:00:11.479530Z",
          "iopub.status.idle": "2023-10-27T10:00:11.486267Z",
          "shell.execute_reply": "2023-10-27T10:00:11.485243Z"
        },
        "papermill": {
          "duration": 0.013937,
          "end_time": "2023-10-27T10:00:11.488404",
          "exception": false,
          "start_time": "2023-10-27T10:00:11.474467",
          "status": "completed"
        },
        "tags": [],
        "id": "8cf7fdba",
        "outputId": "57f8a46a-1a32-4b8b-843e-28979a305eb8"
      },
      "outputs": [
        {
          "data": {
            "text/plain": [
              "Index(['Unnamed: 0', 'id', 'url', 'region', 'region_url', 'price', 'year',\n",
              "       'manufacturer', 'model', 'condition', 'cylinders', 'fuel', 'odometer',\n",
              "       'title_status', 'transmission', 'VIN', 'drive', 'size', 'type',\n",
              "       'paint_color', 'image_url', 'description', 'county', 'state', 'lat',\n",
              "       'long', 'removal_date'],\n",
              "      dtype='object')"
            ]
          },
          "execution_count": 6,
          "metadata": {},
          "output_type": "execute_result"
        }
      ],
      "source": [
        "df.columns"
      ]
    },
    {
      "cell_type": "code",
      "execution_count": null,
      "id": "33fb78ca",
      "metadata": {
        "execution": {
          "iopub.execute_input": "2023-10-27T10:00:11.497543Z",
          "iopub.status.busy": "2023-10-27T10:00:11.497193Z",
          "iopub.status.idle": "2023-10-27T10:00:12.808389Z",
          "shell.execute_reply": "2023-10-27T10:00:12.807377Z"
        },
        "papermill": {
          "duration": 1.318718,
          "end_time": "2023-10-27T10:00:12.810854",
          "exception": false,
          "start_time": "2023-10-27T10:00:11.492136",
          "status": "completed"
        },
        "tags": [],
        "id": "33fb78ca",
        "outputId": "c9bbbe16-d489-4902-8e62-0c225ac04794"
      },
      "outputs": [
        {
          "data": {
            "image/png": "[encoded data removed]",
            "text/plain": [
              "<Figure size 1200x600 with 1 Axes>"
            ]
          },
          "metadata": {},
          "output_type": "display_data"
        }
      ],
      "source": [
        "import matplotlib.pyplot as plt\n",
        "\n",
        "# Resample the data to a monthly frequency and select the first day of each month\n",
        "monthly_first_day = df.resample('MS').first()\n",
        "\n",
        "# Example: Plotting the count of listings on the first day of each month\n",
        "monthly_first_day['id'].plot(marker='o', linestyle='-', figsize=(12, 6))\n",
        "plt.title('Monthly Listing Count on the First Day of Each Month')\n",
        "plt.xlabel('Date')\n",
        "plt.ylabel('Count')\n",
        "plt.grid(True)\n",
        "plt.show()\n"
      ]
    },
    {
      "cell_type": "code",
      "execution_count": null,
      "id": "8cc64a6a",
      "metadata": {
        "execution": {
          "iopub.execute_input": "2023-10-27T10:00:12.821297Z",
          "iopub.status.busy": "2023-10-27T10:00:12.820933Z",
          "iopub.status.idle": "2023-10-27T10:00:13.206041Z",
          "shell.execute_reply": "2023-10-27T10:00:13.205083Z"
        },
        "papermill": {
          "duration": 0.392889,
          "end_time": "2023-10-27T10:00:13.208182",
          "exception": false,
          "start_time": "2023-10-27T10:00:12.815293",
          "status": "completed"
        },
        "tags": [],
        "id": "8cc64a6a",
        "outputId": "9ed7fb32-fe9b-4fea-f32a-caf656a1e504"
      },
      "outputs": [
        {
          "data": {
            "image/png": "[encoded data removed]",
            "text/plain": [
              "<Figure size 1200x600 with 1 Axes>"
            ]
          },
          "metadata": {},
          "output_type": "display_data"
        }
      ],
      "source": [
        "import matplotlib.pyplot as plt\n",
        "\n",
        "# Resample the data on a daily frequency and calculate the daily average price\n",
        "daily_average_price = df['price'].resample('D').mean()\n",
        "\n",
        "# Plot the daily average price\n",
        "plt.figure(figsize=(12, 6))\n",
        "daily_average_price.plot()\n",
        "plt.title('Daily Average Price')\n",
        "plt.xlabel('Date')\n",
        "plt.ylabel('Average Price')\n",
        "plt.grid(True)\n",
        "plt.show()\n"
      ]
    },
    {
      "cell_type": "code",
      "execution_count": null,
      "id": "55d91f15",
      "metadata": {
        "papermill": {
          "duration": 0.005187,
          "end_time": "2023-10-27T10:00:13.218814",
          "exception": false,
          "start_time": "2023-10-27T10:00:13.213627",
          "status": "completed"
        },
        "tags": [],
        "id": "55d91f15"
      },
      "outputs": [],
      "source": [
        "\n",
        "from statsmodels.tsa.arima_model import ARIMA\n",
        "from statsmodels.graphics.tsaplots import plot_acf, plot_pacf"
      ]
    },
    {
      "cell_type": "code",
      "source": [
        "# Perform Dickey-Fuller test for stationarity\n",
        "from statsmodels.tsa.stattools import adfuller\n",
        "\n",
        "result = adfuller(ts_data)\n",
        "print(\"ADF Statistic:\", result[0])\n",
        "print(\"p-value:\", result[1])\n",
        "print(\"Critical Values:\", result[4])"
      ],
      "metadata": {
        "id": "nAB4raOgn1O0"
      },
      "id": "nAB4raOgn1O0",
      "execution_count": null,
      "outputs": []
    },
    {
      "cell_type": "code",
      "source": [
        "# Calculate first-order differencing\n",
        "ts_diff = ts_data.diff().dropna()\n"
      ],
      "metadata": {
        "id": "k2ZDco0Jn6gi"
      },
      "id": "k2ZDco0Jn6gi",
      "execution_count": null,
      "outputs": []
    },
    {
      "cell_type": "code",
      "source": [
        "# Plot ACF and PACF\n",
        "fig, (ax1, ax2) = plt.subplots(2, 1, figsize=(10, 8))\n",
        "plot_acf(ts_diff, lags=40, ax=ax1)\n",
        "plot_pacf(ts_diff, lags=40, ax=ax2)\n",
        "plt.show()"
      ],
      "metadata": {
        "id": "VjGfvOPGodOl"
      },
      "id": "VjGfvOPGodOl",
      "execution_count": null,
      "outputs": []
    },
    {
      "cell_type": "code",
      "source": [
        "# Fit the ARIMA model\n",
        "p, d, q = (2, 1, 2)  # Example values, adjust as needed\n",
        "model = ARIMA(ts_data, order=(p, d, q))\n",
        "results = model.fit()\n"
      ],
      "metadata": {
        "id": "-0VNyGI9okqw"
      },
      "id": "-0VNyGI9okqw",
      "execution_count": null,
      "outputs": []
    },
    {
      "cell_type": "code",
      "source": [
        "# Check model diagnostics\n",
        "print(results.summary())\n"
      ],
      "metadata": {
        "id": "86JiSi2uovEb"
      },
      "id": "86JiSi2uovEb",
      "execution_count": null,
      "outputs": []
    },
    {
      "cell_type": "code",
      "source": [
        "# Forecast future values\n",
        "forecast_steps = 10  # Example value\n",
        "forecast, stderr, conf_int = results.forecast(steps=forecast_steps)\n",
        "print(\"Forecasted values:\", forecast)"
      ],
      "metadata": {
        "id": "19ea6fQVozPr"
      },
      "id": "19ea6fQVozPr",
      "execution_count": null,
      "outputs": []
    },
    {
      "cell_type": "code",
      "source": [
        "# Plot the original time series and forecast\n",
        "plt.figure(figsize=(12, 6))\n",
        "plt.plot(ts_data, label='Original')\n",
        "plt.plot(results.fittedvalues, color='red', label='Fitted')\n",
        "plt.plot(pd.date_range(start=ts_data.index[-1], periods=forecast_steps+1, freq='D')[1:], forecast, color='green', label='Forecast')\n",
        "plt.fill_between(pd.date_range(start=ts_data.index[-1], periods=forecast_steps+1, freq='D')[1:], forecast - 1.96 * stderr, forecast + 1.96 * stderr, color='green', alpha=0.2)\n",
        "plt.title('Original Time Series and Forecast')\n",
        "plt.xlabel('Date')\n",
        "plt.ylabel('Price')\n",
        "plt.legend()\n",
        "plt.show()"
      ],
      "metadata": {
        "id": "U14MXyN4o3lg"
      },
      "id": "U14MXyN4o3lg",
      "execution_count": null,
      "outputs": []
    }
  ],
  "metadata": {
    "kernelspec": {
      "display_name": "Python 3",
      "language": "python",
      "name": "python3"
    },
    "language_info": {
      "codemirror_mode": {
        "name": "ipython",
        "version": 3
      },
      "file_extension": ".py",
      "mimetype": "text/x-python",
      "name": "python",
      "nbconvert_exporter": "python",
      "pygments_lexer": "ipython3",
      "version": "3.10.12"
    },
    "papermill": {
      "default_parameters": {},
      "duration": 61.328807,
      "end_time": "2023-10-27T10:00:14.146260",
      "environment_variables": {},
      "exception": null,
      "input_path": "__notebook__.ipynb",
      "output_path": "__notebook__.ipynb",
      "parameters": {},
      "start_time": "2023-10-27T09:59:12.817453",
      "version": "2.4.0"
    },
    "colab": {
      "provenance": [],
      "include_colab_link": true
    }
  },
  "nbformat": 4,
  "nbformat_minor": 5
}